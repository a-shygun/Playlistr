{
 "cells": [
  {
   "cell_type": "code",
   "execution_count": 1,
   "id": "e1574237",
   "metadata": {
    "ExecuteTime": {
     "end_time": "2025-09-11T09:35:14.020019Z",
     "start_time": "2025-09-11T09:35:14.015811Z"
    }
   },
   "outputs": [],
   "source": [
    "import spotipy\n",
    "from spotipy.oauth2 import SpotifyOAuth\n",
    "from dotenv import load_dotenv\n",
    "import os\n",
    "import requests"
   ]
  },
  {
   "cell_type": "code",
   "execution_count": 2,
   "id": "a85d8967",
   "metadata": {
    "ExecuteTime": {
     "end_time": "2025-09-11T09:35:14.824756Z",
     "start_time": "2025-09-11T09:35:14.819369Z"
    }
   },
   "outputs": [],
   "source": [
    "load_dotenv(\"./.venv/secure/tokens.env\")\n",
    "CLIENT_ID = os.getenv(\"SPOTIPY_CLIENT_ID\")\n",
    "CLIENT_SECRET = os.getenv(\"SPOTIPY_CLIENT_SECRET\")\n",
    "REDIRECT_URI = os.getenv(\"SPOTIPY_REDIRECT_URI\")\n",
    "\n",
    "scope = \"playlist-read-private user-library-read\"\n",
    "\n",
    "sp = spotipy.Spotify(auth_manager=SpotifyOAuth(\n",
    "    client_id=CLIENT_ID,\n",
    "    client_secret=CLIENT_SECRET,\n",
    "    redirect_uri=REDIRECT_URI,\n",
    "    scope=scope,\n",
    "    requests_timeout=30\n",
    "))"
   ]
  },
  {
   "cell_type": "code",
   "execution_count": 3,
   "id": "469e10f1",
   "metadata": {
    "ExecuteTime": {
     "end_time": "2025-09-11T09:35:17.475709Z",
     "start_time": "2025-09-11T09:35:15.524866Z"
    }
   },
   "outputs": [
    {
     "name": "stdout",
     "output_type": "stream",
     "text": [
      "Connected! Username: Aryan\n"
     ]
    }
   ],
   "source": [
    "try:\n",
    "    user = sp.current_user()\n",
    "    print(\"Connected! Username:\", user['display_name'])\n",
    "except Exception as e:\n",
    "    print(\"Connection failed:\", e)"
   ]
  },
  {
   "cell_type": "code",
   "execution_count": 4,
   "id": "b8a59871",
   "metadata": {
    "ExecuteTime": {
     "end_time": "2025-09-11T09:35:18.930184Z",
     "start_time": "2025-09-11T09:35:18.109612Z"
    }
   },
   "outputs": [
    {
     "name": "stdout",
     "output_type": "stream",
     "text": [
      "Connected: Artist: Radiohead\n"
     ]
    }
   ],
   "source": [
    "load_dotenv(\"./.venv/secure/tokens.env\")\n",
    "LASTFM_API_KEY = os.getenv(\"LASTFM_API_KEY\")\n",
    "BASE_URL = \"http://ws.audioscrobbler.com/2.0/\"\n",
    "params = {\n",
    "        \"method\": \"artist.getinfo\",\n",
    "        \"artist\": \"Radiohead\",\n",
    "        \"api_key\": LASTFM_API_KEY,\n",
    "        \"format\": \"json\"\n",
    "    }\n",
    "response = requests.get(BASE_URL, params=params)\n",
    "\n",
    "if response.status_code == 200:\n",
    "    data = response.json()\n",
    "    if \"artist\" in data:\n",
    "        print(\"Connected: Artist:\", data[\"artist\"][\"name\"])\n",
    "    else:\n",
    "        print(\"Connected: Artists not found. Response keys:\", data.keys())\n",
    "else:\n",
    "    print(\"Failed to connect. Status code:\", response.status_code, \"Response:\", response.text)"
   ]
  }
 ],
 "metadata": {
  "kernelspec": {
   "display_name": ".venv",
   "language": "python",
   "name": "python3"
  },
  "language_info": {
   "codemirror_mode": {
    "name": "ipython",
    "version": 3
   },
   "file_extension": ".py",
   "mimetype": "text/x-python",
   "name": "python",
   "nbconvert_exporter": "python",
   "pygments_lexer": "ipython3",
   "version": "3.12.2"
  }
 },
 "nbformat": 4,
 "nbformat_minor": 5
}
