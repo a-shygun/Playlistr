{
 "cells": [
  {
   "cell_type": "code",
   "id": "e1574237",
   "metadata": {
    "ExecuteTime": {
     "end_time": "2025-09-14T09:29:00.468493Z",
     "start_time": "2025-09-14T09:29:00.395395Z"
    }
   },
   "source": [
    "import spotipy\n",
    "from spotipy.oauth2 import SpotifyOAuth\n",
    "from dotenv import load_dotenv\n",
    "import os\n",
    "import requests"
   ],
   "outputs": [],
   "execution_count": 1
  },
  {
   "cell_type": "code",
   "id": "a85d8967",
   "metadata": {
    "ExecuteTime": {
     "end_time": "2025-09-15T00:07:30.051968Z",
     "start_time": "2025-09-15T00:07:30.005926Z"
    }
   },
   "source": [
    "load_dotenv(\"../venv/secure/tokens.env\")\n",
    "CLIENT_ID = os.getenv(\"SPOTIFY_CLIENT_ID\")\n",
    "CLIENT_SECRET = os.getenv(\"SPOTIPY_CLIENT_SECRET\")\n",
    "REDIRECT_URI = os.getenv(\"SPOTIPY_REDIRECT_URI\")\n",
    "scope = \"playlist-read-private user-library-read\"\n",
    "#\n",
    "sp = spotipy.Spotify(auth_manager=SpotifyOAuth(\n",
    "    client_id=CLIENT_ID,\n",
    "    client_secret=CLIENT_SECRET,\n",
    "    redirect_uri=REDIRECT_URI,\n",
    "    scope=scope,\n",
    "    requests_timeout=30\n",
    "))"
   ],
   "outputs": [],
   "execution_count": 23
  },
  {
   "cell_type": "code",
   "id": "469e10f1",
   "metadata": {
    "ExecuteTime": {
     "end_time": "2025-09-15T00:07:30.820894Z",
     "start_time": "2025-09-15T00:07:30.816033Z"
    }
   },
   "source": [
    "try:\n",
    "    user = sp.current_user()\n",
    "    print(\"Connected! Username:\", user['display_name'])\n",
    "except Exception as e:\n",
    "    print(\"Connection failed:\", e)"
   ],
   "outputs": [
    {
     "name": "stdout",
     "output_type": "stream",
     "text": [
      "Connection failed: [Errno 48] Address already in use\n"
     ]
    }
   ],
   "execution_count": 24
  },
  {
   "cell_type": "code",
   "id": "b8a59871",
   "metadata": {
    "ExecuteTime": {
     "end_time": "2025-09-15T00:07:32.954388Z",
     "start_time": "2025-09-15T00:07:32.480710Z"
    }
   },
   "source": [
    "LASTFM_API_KEY = os.getenv(\"LASTFM_API_KEY\")\n",
    "BASE_URL = \"http://ws.audioscrobbler.com/2.0/\"\n",
    "params = {\n",
    "        \"method\": \"artist.getinfo\",\n",
    "        \"artist\": \"Radiohead\",\n",
    "        \"api_key\": LASTFM_API_KEY,\n",
    "        \"format\": \"json\"\n",
    "    }\n",
    "response = requests.get(BASE_URL, params=params)\n",
    "\n",
    "if response.status_code == 200:\n",
    "    data = response.json()\n",
    "    if \"artist\" in data:\n",
    "        print(\"Connected: Artist:\", data[\"artist\"][\"name\"])\n",
    "    else:\n",
    "        print(\"Connected: Artists not found. Response keys:\", data.keys())\n",
    "else:\n",
    "    print(\"Failed to connect. Status code:\", response.status_code, \"Response:\", response.text)"
   ],
   "outputs": [
    {
     "name": "stdout",
     "output_type": "stream",
     "text": [
      "Connected: Artist: Radiohead\n"
     ]
    }
   ],
   "execution_count": 25
  },
  {
   "cell_type": "code",
   "id": "6c811add",
   "metadata": {
    "ExecuteTime": {
     "end_time": "2025-09-15T00:07:35.224894Z",
     "start_time": "2025-09-15T00:07:34.954554Z"
    }
   },
   "source": [
    "import requests\n",
    "from xml.etree import ElementTree as ET\n",
    "\n",
    "# 🔑 Replace with your Last.fm API key\n",
    "LASTFM_API_KEY = os.getenv(\"LASTFM_API_KEY\")\n",
    "ARTIST_NAME = \"Adele\"\n",
    "\n",
    "def get_artist_info(artist_name, api_key):\n",
    "    url = f\"http://ws.audioscrobbler.com/2.0/?method=artist.getInfo&artist={artist_name}&api_key={api_key}&format=xml\"\n",
    "    try:\n",
    "        res = requests.get(url, timeout=10)\n",
    "        res.raise_for_status()\n",
    "        root = ET.fromstring(res.text)\n",
    "        \n",
    "        # Fetch plays and listeners\n",
    "        stats = root.find(\".//stats\")\n",
    "        listeners = int(stats.find(\"listeners\").text) if stats is not None and stats.find(\"listeners\") is not None else 0\n",
    "        # Fetch up to 3 genres/tags\n",
    "        tags_root = root.findall(\".//tags/tag\")\n",
    "        genres = [tag.find(\"name\").text for tag in tags_root[:3]] if tags_root else []\n",
    "\n",
    "        return {\"artist\": artist_name, \"listeners\": listeners, \"genres\": genres}\n",
    "    \n",
    "    except Exception as e:\n",
    "        print(f\"Error fetching info for {artist_name}: {e}\")\n",
    "        return {\"artist\": artist_name, \"plays\": 0, \"listeners\": 0, \"genres\": []}\n",
    "\n",
    "info = get_artist_info(ARTIST_NAME, LASTFM_API_KEY)\n",
    "print(info)"
   ],
   "outputs": [
    {
     "name": "stdout",
     "output_type": "stream",
     "text": [
      "{'artist': 'Adele', 'listeners': 5368134, 'genres': ['soul', 'female vocalists', 'british']}\n"
     ]
    }
   ],
   "execution_count": 26
  }
 ],
 "metadata": {
  "kernelspec": {
   "display_name": "venv",
   "language": "python",
   "name": "python3"
  },
  "language_info": {
   "codemirror_mode": {
    "name": "ipython",
    "version": 3
   },
   "file_extension": ".py",
   "mimetype": "text/x-python",
   "name": "python",
   "nbconvert_exporter": "python",
   "pygments_lexer": "ipython3",
   "version": "3.13.7"
  }
 },
 "nbformat": 4,
 "nbformat_minor": 5
}
